{
 "cells": [
  {
   "cell_type": "code",
   "execution_count": 1,
   "id": "5b705c7c-7df5-4d1b-b301-be5ac970ee31",
   "metadata": {},
   "outputs": [],
   "source": [
    "import pandas as pd\n"
   ]
  },
  {
   "cell_type": "code",
   "execution_count": 126,
   "id": "73c46778-053a-4e44-bc08-228ee3abfb64",
   "metadata": {},
   "outputs": [],
   "source": [
    "data = pd.read_csv(\"City_of_Chicago_Payroll_Data.csv\")"
   ]
  },
  {
   "cell_type": "code",
   "execution_count": 127,
   "id": "3ecefc60-caac-4674-b43d-c0efc9d9a9ce",
   "metadata": {},
   "outputs": [
    {
     "data": {
      "text/html": [
       "<div>\n",
       "<style scoped>\n",
       "    .dataframe tbody tr th:only-of-type {\n",
       "        vertical-align: middle;\n",
       "    }\n",
       "\n",
       "    .dataframe tbody tr th {\n",
       "        vertical-align: top;\n",
       "    }\n",
       "\n",
       "    .dataframe thead th {\n",
       "        text-align: right;\n",
       "    }\n",
       "</style>\n",
       "<table border=\"1\" class=\"dataframe\">\n",
       "  <thead>\n",
       "    <tr style=\"text-align: right;\">\n",
       "      <th></th>\n",
       "      <th>Name</th>\n",
       "      <th>Job Titles</th>\n",
       "      <th>Department</th>\n",
       "      <th>Full or Part-Time</th>\n",
       "      <th>Salary or Hourly</th>\n",
       "      <th>Typical Hours</th>\n",
       "      <th>Annual Salary</th>\n",
       "      <th>Hourly Rate</th>\n",
       "    </tr>\n",
       "  </thead>\n",
       "  <tbody>\n",
       "    <tr>\n",
       "      <th>0</th>\n",
       "      <td>ALLISON,  PAUL W</td>\n",
       "      <td>LIEUTENANT</td>\n",
       "      <td>FIRE</td>\n",
       "      <td>F</td>\n",
       "      <td>Salary</td>\n",
       "      <td>NaN</td>\n",
       "      <td>$107790.00</td>\n",
       "      <td>NaN</td>\n",
       "    </tr>\n",
       "    <tr>\n",
       "      <th>1</th>\n",
       "      <td>BRUNO,  KEVIN D</td>\n",
       "      <td>SERGEANT</td>\n",
       "      <td>POLICE</td>\n",
       "      <td>F</td>\n",
       "      <td>Salary</td>\n",
       "      <td>NaN</td>\n",
       "      <td>$104628.00</td>\n",
       "      <td>NaN</td>\n",
       "    </tr>\n",
       "    <tr>\n",
       "      <th>2</th>\n",
       "      <td>COOPER,  JOHN E</td>\n",
       "      <td>LIEUTENANT-EMT</td>\n",
       "      <td>FIRE</td>\n",
       "      <td>F</td>\n",
       "      <td>Salary</td>\n",
       "      <td>NaN</td>\n",
       "      <td>$114324.00</td>\n",
       "      <td>NaN</td>\n",
       "    </tr>\n",
       "    <tr>\n",
       "      <th>3</th>\n",
       "      <td>CRESPO,  VILMA I</td>\n",
       "      <td>STAFF ASST</td>\n",
       "      <td>LAW</td>\n",
       "      <td>F</td>\n",
       "      <td>Salary</td>\n",
       "      <td>NaN</td>\n",
       "      <td>$76932.00</td>\n",
       "      <td>NaN</td>\n",
       "    </tr>\n",
       "    <tr>\n",
       "      <th>4</th>\n",
       "      <td>DOLAN,  ROBERT J</td>\n",
       "      <td>SERGEANT</td>\n",
       "      <td>POLICE</td>\n",
       "      <td>F</td>\n",
       "      <td>Salary</td>\n",
       "      <td>NaN</td>\n",
       "      <td>$111474.00</td>\n",
       "      <td>NaN</td>\n",
       "    </tr>\n",
       "    <tr>\n",
       "      <th>...</th>\n",
       "      <td>...</td>\n",
       "      <td>...</td>\n",
       "      <td>...</td>\n",
       "      <td>...</td>\n",
       "      <td>...</td>\n",
       "      <td>...</td>\n",
       "      <td>...</td>\n",
       "      <td>...</td>\n",
       "    </tr>\n",
       "    <tr>\n",
       "      <th>32653</th>\n",
       "      <td>ZYGOWICZ,  PETER J</td>\n",
       "      <td>POLICE OFFICER</td>\n",
       "      <td>POLICE</td>\n",
       "      <td>F</td>\n",
       "      <td>Salary</td>\n",
       "      <td>NaN</td>\n",
       "      <td>$90024.00</td>\n",
       "      <td>NaN</td>\n",
       "    </tr>\n",
       "    <tr>\n",
       "      <th>32654</th>\n",
       "      <td>ZYLINSKA,  KATARZYNA</td>\n",
       "      <td>POLICE OFFICER</td>\n",
       "      <td>POLICE</td>\n",
       "      <td>F</td>\n",
       "      <td>Salary</td>\n",
       "      <td>NaN</td>\n",
       "      <td>$48078.00</td>\n",
       "      <td>NaN</td>\n",
       "    </tr>\n",
       "    <tr>\n",
       "      <th>32655</th>\n",
       "      <td>ZYMANTAS,  MARK E</td>\n",
       "      <td>POLICE OFFICER</td>\n",
       "      <td>POLICE</td>\n",
       "      <td>F</td>\n",
       "      <td>Salary</td>\n",
       "      <td>NaN</td>\n",
       "      <td>$87006.00</td>\n",
       "      <td>NaN</td>\n",
       "    </tr>\n",
       "    <tr>\n",
       "      <th>32656</th>\n",
       "      <td>ZYRKOWSKI,  CARLO E</td>\n",
       "      <td>POLICE OFFICER</td>\n",
       "      <td>POLICE</td>\n",
       "      <td>F</td>\n",
       "      <td>Salary</td>\n",
       "      <td>NaN</td>\n",
       "      <td>$93354.00</td>\n",
       "      <td>NaN</td>\n",
       "    </tr>\n",
       "    <tr>\n",
       "      <th>32657</th>\n",
       "      <td>ZYSKOWSKI,  DARIUSZ</td>\n",
       "      <td>CHIEF DATA BASE ANALYST</td>\n",
       "      <td>DoIT</td>\n",
       "      <td>F</td>\n",
       "      <td>Salary</td>\n",
       "      <td>NaN</td>\n",
       "      <td>$115932.00</td>\n",
       "      <td>NaN</td>\n",
       "    </tr>\n",
       "  </tbody>\n",
       "</table>\n",
       "<p>32658 rows × 8 columns</p>\n",
       "</div>"
      ],
      "text/plain": [
       "                        Name               Job Titles Department  \\\n",
       "0           ALLISON,  PAUL W               LIEUTENANT       FIRE   \n",
       "1            BRUNO,  KEVIN D                 SERGEANT     POLICE   \n",
       "2            COOPER,  JOHN E           LIEUTENANT-EMT       FIRE   \n",
       "3           CRESPO,  VILMA I               STAFF ASST        LAW   \n",
       "4           DOLAN,  ROBERT J                 SERGEANT     POLICE   \n",
       "...                      ...                      ...        ...   \n",
       "32653     ZYGOWICZ,  PETER J           POLICE OFFICER     POLICE   \n",
       "32654  ZYLINSKA,  KATARZYNA            POLICE OFFICER     POLICE   \n",
       "32655      ZYMANTAS,  MARK E           POLICE OFFICER     POLICE   \n",
       "32656    ZYRKOWSKI,  CARLO E           POLICE OFFICER     POLICE   \n",
       "32657   ZYSKOWSKI,  DARIUSZ   CHIEF DATA BASE ANALYST       DoIT   \n",
       "\n",
       "      Full or Part-Time Salary or Hourly  Typical Hours Annual Salary  \\\n",
       "0                     F           Salary            NaN    $107790.00   \n",
       "1                     F           Salary            NaN    $104628.00   \n",
       "2                     F           Salary            NaN    $114324.00   \n",
       "3                     F           Salary            NaN     $76932.00   \n",
       "4                     F           Salary            NaN    $111474.00   \n",
       "...                 ...              ...            ...           ...   \n",
       "32653                 F           Salary            NaN     $90024.00   \n",
       "32654                 F           Salary            NaN     $48078.00   \n",
       "32655                 F           Salary            NaN     $87006.00   \n",
       "32656                 F           Salary            NaN     $93354.00   \n",
       "32657                 F           Salary            NaN    $115932.00   \n",
       "\n",
       "      Hourly Rate  \n",
       "0             NaN  \n",
       "1             NaN  \n",
       "2             NaN  \n",
       "3             NaN  \n",
       "4             NaN  \n",
       "...           ...  \n",
       "32653         NaN  \n",
       "32654         NaN  \n",
       "32655         NaN  \n",
       "32656         NaN  \n",
       "32657         NaN  \n",
       "\n",
       "[32658 rows x 8 columns]"
      ]
     },
     "execution_count": 127,
     "metadata": {},
     "output_type": "execute_result"
    }
   ],
   "source": [
    "data"
   ]
  },
  {
   "cell_type": "code",
   "execution_count": 7,
   "id": "524e2a5f-9bb9-4e8e-b690-f185dc60d242",
   "metadata": {},
   "outputs": [
    {
     "name": "stdout",
     "output_type": "stream",
     "text": [
      "<class 'pandas.core.frame.DataFrame'>\n",
      "RangeIndex: 32658 entries, 0 to 32657\n",
      "Data columns (total 8 columns):\n",
      " #   Column             Non-Null Count  Dtype  \n",
      "---  ------             --------------  -----  \n",
      " 0   Name               32658 non-null  object \n",
      " 1   Job Titles         32658 non-null  object \n",
      " 2   Department         32658 non-null  object \n",
      " 3   Full or Part-Time  32658 non-null  object \n",
      " 4   Salary or Hourly   32658 non-null  object \n",
      " 5   Typical Hours      7883 non-null   float64\n",
      " 6   Annual Salary      24775 non-null  object \n",
      " 7   Hourly Rate        7883 non-null   object \n",
      "dtypes: float64(1), object(7)\n",
      "memory usage: 2.0+ MB\n"
     ]
    }
   ],
   "source": [
    "data.info()"
   ]
  },
  {
   "cell_type": "code",
   "execution_count": 9,
   "id": "8af75391-32ee-4c23-9e0e-6079ec2fe245",
   "metadata": {},
   "outputs": [
    {
     "data": {
      "text/html": [
       "<div>\n",
       "<style scoped>\n",
       "    .dataframe tbody tr th:only-of-type {\n",
       "        vertical-align: middle;\n",
       "    }\n",
       "\n",
       "    .dataframe tbody tr th {\n",
       "        vertical-align: top;\n",
       "    }\n",
       "\n",
       "    .dataframe thead th {\n",
       "        text-align: right;\n",
       "    }\n",
       "</style>\n",
       "<table border=\"1\" class=\"dataframe\">\n",
       "  <thead>\n",
       "    <tr style=\"text-align: right;\">\n",
       "      <th></th>\n",
       "      <th>Name</th>\n",
       "      <th>Job Titles</th>\n",
       "      <th>Department</th>\n",
       "      <th>Full or Part-Time</th>\n",
       "      <th>Salary or Hourly</th>\n",
       "      <th>Typical Hours</th>\n",
       "      <th>Annual Salary</th>\n",
       "      <th>Hourly Rate</th>\n",
       "    </tr>\n",
       "  </thead>\n",
       "  <tbody>\n",
       "    <tr>\n",
       "      <th>count</th>\n",
       "      <td>32658</td>\n",
       "      <td>32658</td>\n",
       "      <td>32658</td>\n",
       "      <td>32658</td>\n",
       "      <td>32658</td>\n",
       "      <td>7883.000000</td>\n",
       "      <td>24775</td>\n",
       "      <td>7883</td>\n",
       "    </tr>\n",
       "    <tr>\n",
       "      <th>unique</th>\n",
       "      <td>32350</td>\n",
       "      <td>1095</td>\n",
       "      <td>36</td>\n",
       "      <td>2</td>\n",
       "      <td>2</td>\n",
       "      <td>NaN</td>\n",
       "      <td>1038</td>\n",
       "      <td>167</td>\n",
       "    </tr>\n",
       "    <tr>\n",
       "      <th>top</th>\n",
       "      <td>HERNANDEZ,  JUAN C</td>\n",
       "      <td>POLICE OFFICER</td>\n",
       "      <td>POLICE</td>\n",
       "      <td>F</td>\n",
       "      <td>Salary</td>\n",
       "      <td>NaN</td>\n",
       "      <td>$90024.00</td>\n",
       "      <td>$35.60</td>\n",
       "    </tr>\n",
       "    <tr>\n",
       "      <th>freq</th>\n",
       "      <td>5</td>\n",
       "      <td>9393</td>\n",
       "      <td>12973</td>\n",
       "      <td>30676</td>\n",
       "      <td>24775</td>\n",
       "      <td>NaN</td>\n",
       "      <td>2368</td>\n",
       "      <td>1404</td>\n",
       "    </tr>\n",
       "    <tr>\n",
       "      <th>mean</th>\n",
       "      <td>NaN</td>\n",
       "      <td>NaN</td>\n",
       "      <td>NaN</td>\n",
       "      <td>NaN</td>\n",
       "      <td>NaN</td>\n",
       "      <td>34.698719</td>\n",
       "      <td>NaN</td>\n",
       "      <td>NaN</td>\n",
       "    </tr>\n",
       "    <tr>\n",
       "      <th>std</th>\n",
       "      <td>NaN</td>\n",
       "      <td>NaN</td>\n",
       "      <td>NaN</td>\n",
       "      <td>NaN</td>\n",
       "      <td>NaN</td>\n",
       "      <td>9.145553</td>\n",
       "      <td>NaN</td>\n",
       "      <td>NaN</td>\n",
       "    </tr>\n",
       "    <tr>\n",
       "      <th>min</th>\n",
       "      <td>NaN</td>\n",
       "      <td>NaN</td>\n",
       "      <td>NaN</td>\n",
       "      <td>NaN</td>\n",
       "      <td>NaN</td>\n",
       "      <td>10.000000</td>\n",
       "      <td>NaN</td>\n",
       "      <td>NaN</td>\n",
       "    </tr>\n",
       "    <tr>\n",
       "      <th>25%</th>\n",
       "      <td>NaN</td>\n",
       "      <td>NaN</td>\n",
       "      <td>NaN</td>\n",
       "      <td>NaN</td>\n",
       "      <td>NaN</td>\n",
       "      <td>20.000000</td>\n",
       "      <td>NaN</td>\n",
       "      <td>NaN</td>\n",
       "    </tr>\n",
       "    <tr>\n",
       "      <th>50%</th>\n",
       "      <td>NaN</td>\n",
       "      <td>NaN</td>\n",
       "      <td>NaN</td>\n",
       "      <td>NaN</td>\n",
       "      <td>NaN</td>\n",
       "      <td>40.000000</td>\n",
       "      <td>NaN</td>\n",
       "      <td>NaN</td>\n",
       "    </tr>\n",
       "    <tr>\n",
       "      <th>75%</th>\n",
       "      <td>NaN</td>\n",
       "      <td>NaN</td>\n",
       "      <td>NaN</td>\n",
       "      <td>NaN</td>\n",
       "      <td>NaN</td>\n",
       "      <td>40.000000</td>\n",
       "      <td>NaN</td>\n",
       "      <td>NaN</td>\n",
       "    </tr>\n",
       "    <tr>\n",
       "      <th>max</th>\n",
       "      <td>NaN</td>\n",
       "      <td>NaN</td>\n",
       "      <td>NaN</td>\n",
       "      <td>NaN</td>\n",
       "      <td>NaN</td>\n",
       "      <td>40.000000</td>\n",
       "      <td>NaN</td>\n",
       "      <td>NaN</td>\n",
       "    </tr>\n",
       "  </tbody>\n",
       "</table>\n",
       "</div>"
      ],
      "text/plain": [
       "                      Name      Job Titles Department Full or Part-Time  \\\n",
       "count                32658           32658      32658             32658   \n",
       "unique               32350            1095         36                 2   \n",
       "top     HERNANDEZ,  JUAN C  POLICE OFFICER     POLICE                 F   \n",
       "freq                     5            9393      12973             30676   \n",
       "mean                   NaN             NaN        NaN               NaN   \n",
       "std                    NaN             NaN        NaN               NaN   \n",
       "min                    NaN             NaN        NaN               NaN   \n",
       "25%                    NaN             NaN        NaN               NaN   \n",
       "50%                    NaN             NaN        NaN               NaN   \n",
       "75%                    NaN             NaN        NaN               NaN   \n",
       "max                    NaN             NaN        NaN               NaN   \n",
       "\n",
       "       Salary or Hourly  Typical Hours Annual Salary Hourly Rate  \n",
       "count             32658    7883.000000         24775        7883  \n",
       "unique                2            NaN          1038         167  \n",
       "top              Salary            NaN     $90024.00      $35.60  \n",
       "freq              24775            NaN          2368        1404  \n",
       "mean                NaN      34.698719           NaN         NaN  \n",
       "std                 NaN       9.145553           NaN         NaN  \n",
       "min                 NaN      10.000000           NaN         NaN  \n",
       "25%                 NaN      20.000000           NaN         NaN  \n",
       "50%                 NaN      40.000000           NaN         NaN  \n",
       "75%                 NaN      40.000000           NaN         NaN  \n",
       "max                 NaN      40.000000           NaN         NaN  "
      ]
     },
     "execution_count": 9,
     "metadata": {},
     "output_type": "execute_result"
    }
   ],
   "source": [
    "data.describe(include = 'all')"
   ]
  },
  {
   "cell_type": "code",
   "execution_count": 10,
   "id": "5b66cde5-1cd7-4648-ba5e-5dae59bac16c",
   "metadata": {},
   "outputs": [
    {
     "data": {
      "text/html": [
       "<div>\n",
       "<style scoped>\n",
       "    .dataframe tbody tr th:only-of-type {\n",
       "        vertical-align: middle;\n",
       "    }\n",
       "\n",
       "    .dataframe tbody tr th {\n",
       "        vertical-align: top;\n",
       "    }\n",
       "\n",
       "    .dataframe thead th {\n",
       "        text-align: right;\n",
       "    }\n",
       "</style>\n",
       "<table border=\"1\" class=\"dataframe\">\n",
       "  <thead>\n",
       "    <tr style=\"text-align: right;\">\n",
       "      <th></th>\n",
       "      <th>Typical Hours</th>\n",
       "    </tr>\n",
       "  </thead>\n",
       "  <tbody>\n",
       "    <tr>\n",
       "      <th>count</th>\n",
       "      <td>7883.000000</td>\n",
       "    </tr>\n",
       "    <tr>\n",
       "      <th>mean</th>\n",
       "      <td>34.698719</td>\n",
       "    </tr>\n",
       "    <tr>\n",
       "      <th>std</th>\n",
       "      <td>9.145553</td>\n",
       "    </tr>\n",
       "    <tr>\n",
       "      <th>min</th>\n",
       "      <td>10.000000</td>\n",
       "    </tr>\n",
       "    <tr>\n",
       "      <th>25%</th>\n",
       "      <td>20.000000</td>\n",
       "    </tr>\n",
       "    <tr>\n",
       "      <th>50%</th>\n",
       "      <td>40.000000</td>\n",
       "    </tr>\n",
       "    <tr>\n",
       "      <th>75%</th>\n",
       "      <td>40.000000</td>\n",
       "    </tr>\n",
       "    <tr>\n",
       "      <th>max</th>\n",
       "      <td>40.000000</td>\n",
       "    </tr>\n",
       "  </tbody>\n",
       "</table>\n",
       "</div>"
      ],
      "text/plain": [
       "       Typical Hours\n",
       "count    7883.000000\n",
       "mean       34.698719\n",
       "std         9.145553\n",
       "min        10.000000\n",
       "25%        20.000000\n",
       "50%        40.000000\n",
       "75%        40.000000\n",
       "max        40.000000"
      ]
     },
     "execution_count": 10,
     "metadata": {},
     "output_type": "execute_result"
    }
   ],
   "source": [
    "data.describe()"
   ]
  },
  {
   "cell_type": "code",
   "execution_count": 11,
   "id": "332d09c2-7226-4cf8-96e1-342ee322d175",
   "metadata": {},
   "outputs": [
    {
     "data": {
      "text/plain": [
       "Name                     0\n",
       "Job Titles               0\n",
       "Department               0\n",
       "Full or Part-Time        0\n",
       "Salary or Hourly         0\n",
       "Typical Hours        24775\n",
       "Annual Salary         7883\n",
       "Hourly Rate          24775\n",
       "dtype: int64"
      ]
     },
     "execution_count": 11,
     "metadata": {},
     "output_type": "execute_result"
    }
   ],
   "source": [
    "data.isnull().sum()\n"
   ]
  },
  {
   "cell_type": "code",
   "execution_count": 12,
   "id": "255b15e8-b520-49bf-9ab6-2c7018e731b0",
   "metadata": {},
   "outputs": [
    {
     "data": {
      "text/plain": [
       "Index(['Name', 'Job Titles', 'Department', 'Full or Part-Time',\n",
       "       'Salary or Hourly', 'Typical Hours', 'Annual Salary', 'Hourly Rate'],\n",
       "      dtype='object')"
      ]
     },
     "execution_count": 12,
     "metadata": {},
     "output_type": "execute_result"
    }
   ],
   "source": [
    "data.columns"
   ]
  },
  {
   "cell_type": "code",
   "execution_count": 14,
   "id": "6245faef-4674-4127-a6d9-36c523c38fde",
   "metadata": {},
   "outputs": [
    {
     "name": "stdout",
     "output_type": "stream",
     "text": [
      "Typical Hours is max number:  40.0\n",
      "Typical Hours is min number:  10.0\n",
      "Typical Hours is avg/mean :  34.69871876189268\n"
     ]
    }
   ],
   "source": [
    "print(\"Typical Hours is max number: \", data[\"Typical Hours\"].max())\n",
    "print(\"Typical Hours is min number: \", data[\"Typical Hours\"].min())\n",
    "print(\"Typical Hours is avg/mean : \", data[\"Typical Hours\"].mean())"
   ]
  },
  {
   "cell_type": "code",
   "execution_count": 25,
   "id": "271fb373-5cac-4306-926b-098a67245f2c",
   "metadata": {},
   "outputs": [
    {
     "data": {
      "text/plain": [
       "Salary or Hourly\n",
       "Hourly     7883\n",
       "Salary    24775\n",
       "Name: Name, dtype: int64"
      ]
     },
     "execution_count": 25,
     "metadata": {},
     "output_type": "execute_result"
    }
   ],
   "source": [
    "data.groupby(\"Salary or Hourly\").count()[\"Name\"]"
   ]
  },
  {
   "cell_type": "code",
   "execution_count": 22,
   "id": "30ce9960-e895-4254-998a-d1779536410e",
   "metadata": {},
   "outputs": [
    {
     "data": {
      "text/plain": [
       "Salary or Hourly\n",
       "Salary    24775\n",
       "Hourly     7883\n",
       "Name: count, dtype: int64"
      ]
     },
     "execution_count": 22,
     "metadata": {},
     "output_type": "execute_result"
    }
   ],
   "source": [
    "data[\"Salary or Hourly\"].value_counts()"
   ]
  },
  {
   "cell_type": "code",
   "execution_count": 27,
   "id": "68571175-f848-4f1f-8c97-4c4b6cc07297",
   "metadata": {},
   "outputs": [
    {
     "data": {
      "text/plain": [
       "'POLICE'"
      ]
     },
     "execution_count": 27,
     "metadata": {},
     "output_type": "execute_result"
    }
   ],
   "source": [
    "data[\"Department\"].value_counts().idxmax()"
   ]
  },
  {
   "cell_type": "code",
   "execution_count": 33,
   "id": "3d907aeb-c45e-453d-a64f-b463b45173fb",
   "metadata": {},
   "outputs": [
    {
     "data": {
      "text/plain": [
       "Department\n",
       "POLICE    12973\n",
       "Name: Name, dtype: int64"
      ]
     },
     "execution_count": 33,
     "metadata": {},
     "output_type": "execute_result"
    }
   ],
   "source": [
    "data.groupby(\"Department\").count().sort_values(by=\"Name\",ascending = False).head(1)[\"Name\"]"
   ]
  },
  {
   "cell_type": "code",
   "execution_count": 49,
   "id": "c69d6148-2fdf-4fd8-b107-b96acbea9206",
   "metadata": {},
   "outputs": [
    {
     "data": {
      "text/plain": [
       "Salary or Hourly\n",
       "Salary    12941\n",
       "Hourly       32\n",
       "Name: count, dtype: int64"
      ]
     },
     "execution_count": 49,
     "metadata": {},
     "output_type": "execute_result"
    }
   ],
   "source": [
    "data[data[\"Department\"] == \"POLICE\"][\"Salary or Hourly\"].value_counts()"
   ]
  },
  {
   "cell_type": "code",
   "execution_count": 50,
   "id": "dd1e0430-d6b6-457b-8fbf-f9a0636e5e65",
   "metadata": {},
   "outputs": [
    {
     "data": {
      "text/plain": [
       "Index(['Name', 'Job Titles', 'Department', 'Full or Part-Time',\n",
       "       'Salary or Hourly', 'Typical Hours', 'Annual Salary', 'Hourly Rate'],\n",
       "      dtype='object')"
      ]
     },
     "execution_count": 50,
     "metadata": {},
     "output_type": "execute_result"
    }
   ],
   "source": [
    "data.columns"
   ]
  },
  {
   "cell_type": "code",
   "execution_count": 55,
   "id": "3e4709d8-cf4d-4e16-9ced-3530f432e5dd",
   "metadata": {},
   "outputs": [],
   "source": [
    "data[\"salary\"] = data[\"Annual Salary\"].str.replace(\"$\",\"\").astype(float)"
   ]
  },
  {
   "cell_type": "code",
   "execution_count": 56,
   "id": "c7917301-cf3f-4e01-a2e7-dbed19bb320b",
   "metadata": {},
   "outputs": [
    {
     "data": {
      "text/html": [
       "<div>\n",
       "<style scoped>\n",
       "    .dataframe tbody tr th:only-of-type {\n",
       "        vertical-align: middle;\n",
       "    }\n",
       "\n",
       "    .dataframe tbody tr th {\n",
       "        vertical-align: top;\n",
       "    }\n",
       "\n",
       "    .dataframe thead th {\n",
       "        text-align: right;\n",
       "    }\n",
       "</style>\n",
       "<table border=\"1\" class=\"dataframe\">\n",
       "  <thead>\n",
       "    <tr style=\"text-align: right;\">\n",
       "      <th></th>\n",
       "      <th>Name</th>\n",
       "      <th>Job Titles</th>\n",
       "      <th>Department</th>\n",
       "      <th>Full or Part-Time</th>\n",
       "      <th>Salary or Hourly</th>\n",
       "      <th>Typical Hours</th>\n",
       "      <th>Annual Salary</th>\n",
       "      <th>Hourly Rate</th>\n",
       "      <th>salary</th>\n",
       "    </tr>\n",
       "  </thead>\n",
       "  <tbody>\n",
       "    <tr>\n",
       "      <th>0</th>\n",
       "      <td>ALLISON,  PAUL W</td>\n",
       "      <td>LIEUTENANT</td>\n",
       "      <td>FIRE</td>\n",
       "      <td>F</td>\n",
       "      <td>Salary</td>\n",
       "      <td>NaN</td>\n",
       "      <td>$107790.00</td>\n",
       "      <td>NaN</td>\n",
       "      <td>107790.0</td>\n",
       "    </tr>\n",
       "    <tr>\n",
       "      <th>1</th>\n",
       "      <td>BRUNO,  KEVIN D</td>\n",
       "      <td>SERGEANT</td>\n",
       "      <td>POLICE</td>\n",
       "      <td>F</td>\n",
       "      <td>Salary</td>\n",
       "      <td>NaN</td>\n",
       "      <td>$104628.00</td>\n",
       "      <td>NaN</td>\n",
       "      <td>104628.0</td>\n",
       "    </tr>\n",
       "    <tr>\n",
       "      <th>2</th>\n",
       "      <td>COOPER,  JOHN E</td>\n",
       "      <td>LIEUTENANT-EMT</td>\n",
       "      <td>FIRE</td>\n",
       "      <td>F</td>\n",
       "      <td>Salary</td>\n",
       "      <td>NaN</td>\n",
       "      <td>$114324.00</td>\n",
       "      <td>NaN</td>\n",
       "      <td>114324.0</td>\n",
       "    </tr>\n",
       "    <tr>\n",
       "      <th>3</th>\n",
       "      <td>CRESPO,  VILMA I</td>\n",
       "      <td>STAFF ASST</td>\n",
       "      <td>LAW</td>\n",
       "      <td>F</td>\n",
       "      <td>Salary</td>\n",
       "      <td>NaN</td>\n",
       "      <td>$76932.00</td>\n",
       "      <td>NaN</td>\n",
       "      <td>76932.0</td>\n",
       "    </tr>\n",
       "    <tr>\n",
       "      <th>4</th>\n",
       "      <td>DOLAN,  ROBERT J</td>\n",
       "      <td>SERGEANT</td>\n",
       "      <td>POLICE</td>\n",
       "      <td>F</td>\n",
       "      <td>Salary</td>\n",
       "      <td>NaN</td>\n",
       "      <td>$111474.00</td>\n",
       "      <td>NaN</td>\n",
       "      <td>111474.0</td>\n",
       "    </tr>\n",
       "    <tr>\n",
       "      <th>...</th>\n",
       "      <td>...</td>\n",
       "      <td>...</td>\n",
       "      <td>...</td>\n",
       "      <td>...</td>\n",
       "      <td>...</td>\n",
       "      <td>...</td>\n",
       "      <td>...</td>\n",
       "      <td>...</td>\n",
       "      <td>...</td>\n",
       "    </tr>\n",
       "    <tr>\n",
       "      <th>32653</th>\n",
       "      <td>ZYGOWICZ,  PETER J</td>\n",
       "      <td>POLICE OFFICER</td>\n",
       "      <td>POLICE</td>\n",
       "      <td>F</td>\n",
       "      <td>Salary</td>\n",
       "      <td>NaN</td>\n",
       "      <td>$90024.00</td>\n",
       "      <td>NaN</td>\n",
       "      <td>90024.0</td>\n",
       "    </tr>\n",
       "    <tr>\n",
       "      <th>32654</th>\n",
       "      <td>ZYLINSKA,  KATARZYNA</td>\n",
       "      <td>POLICE OFFICER</td>\n",
       "      <td>POLICE</td>\n",
       "      <td>F</td>\n",
       "      <td>Salary</td>\n",
       "      <td>NaN</td>\n",
       "      <td>$48078.00</td>\n",
       "      <td>NaN</td>\n",
       "      <td>48078.0</td>\n",
       "    </tr>\n",
       "    <tr>\n",
       "      <th>32655</th>\n",
       "      <td>ZYMANTAS,  MARK E</td>\n",
       "      <td>POLICE OFFICER</td>\n",
       "      <td>POLICE</td>\n",
       "      <td>F</td>\n",
       "      <td>Salary</td>\n",
       "      <td>NaN</td>\n",
       "      <td>$87006.00</td>\n",
       "      <td>NaN</td>\n",
       "      <td>87006.0</td>\n",
       "    </tr>\n",
       "    <tr>\n",
       "      <th>32656</th>\n",
       "      <td>ZYRKOWSKI,  CARLO E</td>\n",
       "      <td>POLICE OFFICER</td>\n",
       "      <td>POLICE</td>\n",
       "      <td>F</td>\n",
       "      <td>Salary</td>\n",
       "      <td>NaN</td>\n",
       "      <td>$93354.00</td>\n",
       "      <td>NaN</td>\n",
       "      <td>93354.0</td>\n",
       "    </tr>\n",
       "    <tr>\n",
       "      <th>32657</th>\n",
       "      <td>ZYSKOWSKI,  DARIUSZ</td>\n",
       "      <td>CHIEF DATA BASE ANALYST</td>\n",
       "      <td>DoIT</td>\n",
       "      <td>F</td>\n",
       "      <td>Salary</td>\n",
       "      <td>NaN</td>\n",
       "      <td>$115932.00</td>\n",
       "      <td>NaN</td>\n",
       "      <td>115932.0</td>\n",
       "    </tr>\n",
       "  </tbody>\n",
       "</table>\n",
       "<p>32658 rows × 9 columns</p>\n",
       "</div>"
      ],
      "text/plain": [
       "                        Name               Job Titles Department  \\\n",
       "0           ALLISON,  PAUL W               LIEUTENANT       FIRE   \n",
       "1            BRUNO,  KEVIN D                 SERGEANT     POLICE   \n",
       "2            COOPER,  JOHN E           LIEUTENANT-EMT       FIRE   \n",
       "3           CRESPO,  VILMA I               STAFF ASST        LAW   \n",
       "4           DOLAN,  ROBERT J                 SERGEANT     POLICE   \n",
       "...                      ...                      ...        ...   \n",
       "32653     ZYGOWICZ,  PETER J           POLICE OFFICER     POLICE   \n",
       "32654  ZYLINSKA,  KATARZYNA            POLICE OFFICER     POLICE   \n",
       "32655      ZYMANTAS,  MARK E           POLICE OFFICER     POLICE   \n",
       "32656    ZYRKOWSKI,  CARLO E           POLICE OFFICER     POLICE   \n",
       "32657   ZYSKOWSKI,  DARIUSZ   CHIEF DATA BASE ANALYST       DoIT   \n",
       "\n",
       "      Full or Part-Time Salary or Hourly  Typical Hours Annual Salary  \\\n",
       "0                     F           Salary            NaN    $107790.00   \n",
       "1                     F           Salary            NaN    $104628.00   \n",
       "2                     F           Salary            NaN    $114324.00   \n",
       "3                     F           Salary            NaN     $76932.00   \n",
       "4                     F           Salary            NaN    $111474.00   \n",
       "...                 ...              ...            ...           ...   \n",
       "32653                 F           Salary            NaN     $90024.00   \n",
       "32654                 F           Salary            NaN     $48078.00   \n",
       "32655                 F           Salary            NaN     $87006.00   \n",
       "32656                 F           Salary            NaN     $93354.00   \n",
       "32657                 F           Salary            NaN    $115932.00   \n",
       "\n",
       "      Hourly Rate    salary  \n",
       "0             NaN  107790.0  \n",
       "1             NaN  104628.0  \n",
       "2             NaN  114324.0  \n",
       "3             NaN   76932.0  \n",
       "4             NaN  111474.0  \n",
       "...           ...       ...  \n",
       "32653         NaN   90024.0  \n",
       "32654         NaN   48078.0  \n",
       "32655         NaN   87006.0  \n",
       "32656         NaN   93354.0  \n",
       "32657         NaN  115932.0  \n",
       "\n",
       "[32658 rows x 9 columns]"
      ]
     },
     "execution_count": 56,
     "metadata": {},
     "output_type": "execute_result"
    }
   ],
   "source": [
    "data"
   ]
  },
  {
   "cell_type": "code",
   "execution_count": 57,
   "id": "32ee7904-f717-4acf-be00-7045737814d5",
   "metadata": {},
   "outputs": [
    {
     "name": "stdout",
     "output_type": "stream",
     "text": [
      "<class 'pandas.core.frame.DataFrame'>\n",
      "RangeIndex: 32658 entries, 0 to 32657\n",
      "Data columns (total 9 columns):\n",
      " #   Column             Non-Null Count  Dtype  \n",
      "---  ------             --------------  -----  \n",
      " 0   Name               32658 non-null  object \n",
      " 1   Job Titles         32658 non-null  object \n",
      " 2   Department         32658 non-null  object \n",
      " 3   Full or Part-Time  32658 non-null  object \n",
      " 4   Salary or Hourly   32658 non-null  object \n",
      " 5   Typical Hours      7883 non-null   float64\n",
      " 6   Annual Salary      24775 non-null  object \n",
      " 7   Hourly Rate        7883 non-null   object \n",
      " 8   salary             24775 non-null  float64\n",
      "dtypes: float64(2), object(7)\n",
      "memory usage: 2.2+ MB\n"
     ]
    }
   ],
   "source": [
    "data.info()"
   ]
  },
  {
   "cell_type": "code",
   "execution_count": 58,
   "id": "78db935c-3ad1-4cc6-bbcf-6afc8429836b",
   "metadata": {},
   "outputs": [
    {
     "name": "stdout",
     "output_type": "stream",
     "text": [
      "salary is max :  300000.0\n",
      "salary is min :  0.96\n",
      "salary is mean  87512.78024137235\n"
     ]
    }
   ],
   "source": [
    "print(\"salary is max : \",data[\"salary\"].max())\n",
    "print(\"salary is min : \", data[\"salary\"].min())\n",
    "print(\"salary is mean \" , data[\"salary\"].mean())"
   ]
  },
  {
   "cell_type": "code",
   "execution_count": 60,
   "id": "c5af757a-13b3-46a7-aeb6-e2106a019d6a",
   "metadata": {},
   "outputs": [
    {
     "data": {
      "text/plain": [
       "8310    EVANS,  GINGER S\n",
       "Name: Name, dtype: object"
      ]
     },
     "execution_count": 60,
     "metadata": {},
     "output_type": "execute_result"
    }
   ],
   "source": [
    "data[data[\"salary\"] == data[\"salary\"].max()][\"Name\"]"
   ]
  },
  {
   "cell_type": "code",
   "execution_count": 61,
   "id": "7ab63993-c667-4d6b-af19-b55128cb7d0d",
   "metadata": {},
   "outputs": [
    {
     "data": {
      "text/plain": [
       "8310"
      ]
     },
     "execution_count": 61,
     "metadata": {},
     "output_type": "execute_result"
    }
   ],
   "source": [
    "data[\"salary\"].idxmax()"
   ]
  },
  {
   "cell_type": "code",
   "execution_count": 63,
   "id": "af7a8206-3a9d-4ffe-905f-07ab37f3ddb9",
   "metadata": {},
   "outputs": [
    {
     "data": {
      "text/plain": [
       "Name                         EVANS,  GINGER S\n",
       "Job Titles           COMMISSIONER OF AVIATION\n",
       "Department                           AVIATION\n",
       "Full or Part-Time                           F\n",
       "Salary or Hourly                       Salary\n",
       "Typical Hours                             NaN\n",
       "Annual Salary                      $300000.00\n",
       "Hourly Rate                               NaN\n",
       "salary                               300000.0\n",
       "Name: 8310, dtype: object"
      ]
     },
     "execution_count": 63,
     "metadata": {},
     "output_type": "execute_result"
    }
   ],
   "source": [
    "data.iloc[8310]"
   ]
  },
  {
   "cell_type": "code",
   "execution_count": 64,
   "id": "9548b8a4-33c8-4419-8fc4-66c7305bcfce",
   "metadata": {},
   "outputs": [
    {
     "data": {
      "text/plain": [
       "Name                         EVANS,  GINGER S\n",
       "Job Titles           COMMISSIONER OF AVIATION\n",
       "Department                           AVIATION\n",
       "Full or Part-Time                           F\n",
       "Salary or Hourly                       Salary\n",
       "Typical Hours                             NaN\n",
       "Annual Salary                      $300000.00\n",
       "Hourly Rate                               NaN\n",
       "salary                               300000.0\n",
       "Name: 8310, dtype: object"
      ]
     },
     "execution_count": 64,
     "metadata": {},
     "output_type": "execute_result"
    }
   ],
   "source": [
    "data.iloc[data[\"salary\"].idxmax()]"
   ]
  },
  {
   "cell_type": "code",
   "execution_count": 65,
   "id": "a20da44d-abd6-4a09-8bbe-f4f7d7c3e291",
   "metadata": {},
   "outputs": [
    {
     "data": {
      "text/plain": [
       "15387"
      ]
     },
     "execution_count": 65,
     "metadata": {},
     "output_type": "execute_result"
    }
   ],
   "source": [
    "data['salary'].idxmin()"
   ]
  },
  {
   "cell_type": "code",
   "execution_count": 66,
   "id": "cbd8f854-529d-4d0c-95c4-ddb82dbad632",
   "metadata": {},
   "outputs": [
    {
     "data": {
      "text/plain": [
       "Name                           KOCH,  STEVEN \n",
       "Job Titles           ADMINISTRATIVE SECRETARY\n",
       "Department                     MAYOR'S OFFICE\n",
       "Full or Part-Time                           F\n",
       "Salary or Hourly                       Salary\n",
       "Typical Hours                             NaN\n",
       "Annual Salary                           $0.96\n",
       "Hourly Rate                               NaN\n",
       "salary                                   0.96\n",
       "Name: 15387, dtype: object"
      ]
     },
     "execution_count": 66,
     "metadata": {},
     "output_type": "execute_result"
    }
   ],
   "source": [
    "data.iloc[data['salary'].idxmin()]"
   ]
  },
  {
   "cell_type": "code",
   "execution_count": 68,
   "id": "5c55ab58-a44d-44ae-bb47-4be15bd07c2f",
   "metadata": {},
   "outputs": [
    {
     "data": {
      "text/plain": [
       "15387    KOCH,  STEVEN \n",
       "Name: Name, dtype: object"
      ]
     },
     "execution_count": 68,
     "metadata": {},
     "output_type": "execute_result"
    }
   ],
   "source": [
    "data[data['salary'] == data['salary'].min()][\"Name\"]"
   ]
  },
  {
   "cell_type": "code",
   "execution_count": 69,
   "id": "29f1790b-8164-4d94-a1dc-fb77284c2874",
   "metadata": {},
   "outputs": [
    {
     "data": {
      "text/plain": [
       "Index(['Name', 'Job Titles', 'Department', 'Full or Part-Time',\n",
       "       'Salary or Hourly', 'Typical Hours', 'Annual Salary', 'Hourly Rate',\n",
       "       'salary'],\n",
       "      dtype='object')"
      ]
     },
     "execution_count": 69,
     "metadata": {},
     "output_type": "execute_result"
    }
   ],
   "source": [
    "data.columns"
   ]
  },
  {
   "cell_type": "code",
   "execution_count": 70,
   "id": "25a398fa-5c80-4696-934c-f07ef7a48be4",
   "metadata": {},
   "outputs": [],
   "source": [
    "data['hourly_rate'] = data[\"Hourly Rate\"].str.replace(\"$\",\"\").astype(float)"
   ]
  },
  {
   "cell_type": "code",
   "execution_count": 71,
   "id": "9db31f3f-4403-40b3-b4e3-1b5535f504b3",
   "metadata": {},
   "outputs": [
    {
     "data": {
      "text/html": [
       "<div>\n",
       "<style scoped>\n",
       "    .dataframe tbody tr th:only-of-type {\n",
       "        vertical-align: middle;\n",
       "    }\n",
       "\n",
       "    .dataframe tbody tr th {\n",
       "        vertical-align: top;\n",
       "    }\n",
       "\n",
       "    .dataframe thead th {\n",
       "        text-align: right;\n",
       "    }\n",
       "</style>\n",
       "<table border=\"1\" class=\"dataframe\">\n",
       "  <thead>\n",
       "    <tr style=\"text-align: right;\">\n",
       "      <th></th>\n",
       "      <th>Name</th>\n",
       "      <th>Job Titles</th>\n",
       "      <th>Department</th>\n",
       "      <th>Full or Part-Time</th>\n",
       "      <th>Salary or Hourly</th>\n",
       "      <th>Typical Hours</th>\n",
       "      <th>Annual Salary</th>\n",
       "      <th>Hourly Rate</th>\n",
       "      <th>salary</th>\n",
       "      <th>hourly_rate</th>\n",
       "    </tr>\n",
       "  </thead>\n",
       "  <tbody>\n",
       "    <tr>\n",
       "      <th>0</th>\n",
       "      <td>ALLISON,  PAUL W</td>\n",
       "      <td>LIEUTENANT</td>\n",
       "      <td>FIRE</td>\n",
       "      <td>F</td>\n",
       "      <td>Salary</td>\n",
       "      <td>NaN</td>\n",
       "      <td>$107790.00</td>\n",
       "      <td>NaN</td>\n",
       "      <td>107790.0</td>\n",
       "      <td>NaN</td>\n",
       "    </tr>\n",
       "    <tr>\n",
       "      <th>1</th>\n",
       "      <td>BRUNO,  KEVIN D</td>\n",
       "      <td>SERGEANT</td>\n",
       "      <td>POLICE</td>\n",
       "      <td>F</td>\n",
       "      <td>Salary</td>\n",
       "      <td>NaN</td>\n",
       "      <td>$104628.00</td>\n",
       "      <td>NaN</td>\n",
       "      <td>104628.0</td>\n",
       "      <td>NaN</td>\n",
       "    </tr>\n",
       "    <tr>\n",
       "      <th>2</th>\n",
       "      <td>COOPER,  JOHN E</td>\n",
       "      <td>LIEUTENANT-EMT</td>\n",
       "      <td>FIRE</td>\n",
       "      <td>F</td>\n",
       "      <td>Salary</td>\n",
       "      <td>NaN</td>\n",
       "      <td>$114324.00</td>\n",
       "      <td>NaN</td>\n",
       "      <td>114324.0</td>\n",
       "      <td>NaN</td>\n",
       "    </tr>\n",
       "    <tr>\n",
       "      <th>3</th>\n",
       "      <td>CRESPO,  VILMA I</td>\n",
       "      <td>STAFF ASST</td>\n",
       "      <td>LAW</td>\n",
       "      <td>F</td>\n",
       "      <td>Salary</td>\n",
       "      <td>NaN</td>\n",
       "      <td>$76932.00</td>\n",
       "      <td>NaN</td>\n",
       "      <td>76932.0</td>\n",
       "      <td>NaN</td>\n",
       "    </tr>\n",
       "    <tr>\n",
       "      <th>4</th>\n",
       "      <td>DOLAN,  ROBERT J</td>\n",
       "      <td>SERGEANT</td>\n",
       "      <td>POLICE</td>\n",
       "      <td>F</td>\n",
       "      <td>Salary</td>\n",
       "      <td>NaN</td>\n",
       "      <td>$111474.00</td>\n",
       "      <td>NaN</td>\n",
       "      <td>111474.0</td>\n",
       "      <td>NaN</td>\n",
       "    </tr>\n",
       "    <tr>\n",
       "      <th>...</th>\n",
       "      <td>...</td>\n",
       "      <td>...</td>\n",
       "      <td>...</td>\n",
       "      <td>...</td>\n",
       "      <td>...</td>\n",
       "      <td>...</td>\n",
       "      <td>...</td>\n",
       "      <td>...</td>\n",
       "      <td>...</td>\n",
       "      <td>...</td>\n",
       "    </tr>\n",
       "    <tr>\n",
       "      <th>32653</th>\n",
       "      <td>ZYGOWICZ,  PETER J</td>\n",
       "      <td>POLICE OFFICER</td>\n",
       "      <td>POLICE</td>\n",
       "      <td>F</td>\n",
       "      <td>Salary</td>\n",
       "      <td>NaN</td>\n",
       "      <td>$90024.00</td>\n",
       "      <td>NaN</td>\n",
       "      <td>90024.0</td>\n",
       "      <td>NaN</td>\n",
       "    </tr>\n",
       "    <tr>\n",
       "      <th>32654</th>\n",
       "      <td>ZYLINSKA,  KATARZYNA</td>\n",
       "      <td>POLICE OFFICER</td>\n",
       "      <td>POLICE</td>\n",
       "      <td>F</td>\n",
       "      <td>Salary</td>\n",
       "      <td>NaN</td>\n",
       "      <td>$48078.00</td>\n",
       "      <td>NaN</td>\n",
       "      <td>48078.0</td>\n",
       "      <td>NaN</td>\n",
       "    </tr>\n",
       "    <tr>\n",
       "      <th>32655</th>\n",
       "      <td>ZYMANTAS,  MARK E</td>\n",
       "      <td>POLICE OFFICER</td>\n",
       "      <td>POLICE</td>\n",
       "      <td>F</td>\n",
       "      <td>Salary</td>\n",
       "      <td>NaN</td>\n",
       "      <td>$87006.00</td>\n",
       "      <td>NaN</td>\n",
       "      <td>87006.0</td>\n",
       "      <td>NaN</td>\n",
       "    </tr>\n",
       "    <tr>\n",
       "      <th>32656</th>\n",
       "      <td>ZYRKOWSKI,  CARLO E</td>\n",
       "      <td>POLICE OFFICER</td>\n",
       "      <td>POLICE</td>\n",
       "      <td>F</td>\n",
       "      <td>Salary</td>\n",
       "      <td>NaN</td>\n",
       "      <td>$93354.00</td>\n",
       "      <td>NaN</td>\n",
       "      <td>93354.0</td>\n",
       "      <td>NaN</td>\n",
       "    </tr>\n",
       "    <tr>\n",
       "      <th>32657</th>\n",
       "      <td>ZYSKOWSKI,  DARIUSZ</td>\n",
       "      <td>CHIEF DATA BASE ANALYST</td>\n",
       "      <td>DoIT</td>\n",
       "      <td>F</td>\n",
       "      <td>Salary</td>\n",
       "      <td>NaN</td>\n",
       "      <td>$115932.00</td>\n",
       "      <td>NaN</td>\n",
       "      <td>115932.0</td>\n",
       "      <td>NaN</td>\n",
       "    </tr>\n",
       "  </tbody>\n",
       "</table>\n",
       "<p>32658 rows × 10 columns</p>\n",
       "</div>"
      ],
      "text/plain": [
       "                        Name               Job Titles Department  \\\n",
       "0           ALLISON,  PAUL W               LIEUTENANT       FIRE   \n",
       "1            BRUNO,  KEVIN D                 SERGEANT     POLICE   \n",
       "2            COOPER,  JOHN E           LIEUTENANT-EMT       FIRE   \n",
       "3           CRESPO,  VILMA I               STAFF ASST        LAW   \n",
       "4           DOLAN,  ROBERT J                 SERGEANT     POLICE   \n",
       "...                      ...                      ...        ...   \n",
       "32653     ZYGOWICZ,  PETER J           POLICE OFFICER     POLICE   \n",
       "32654  ZYLINSKA,  KATARZYNA            POLICE OFFICER     POLICE   \n",
       "32655      ZYMANTAS,  MARK E           POLICE OFFICER     POLICE   \n",
       "32656    ZYRKOWSKI,  CARLO E           POLICE OFFICER     POLICE   \n",
       "32657   ZYSKOWSKI,  DARIUSZ   CHIEF DATA BASE ANALYST       DoIT   \n",
       "\n",
       "      Full or Part-Time Salary or Hourly  Typical Hours Annual Salary  \\\n",
       "0                     F           Salary            NaN    $107790.00   \n",
       "1                     F           Salary            NaN    $104628.00   \n",
       "2                     F           Salary            NaN    $114324.00   \n",
       "3                     F           Salary            NaN     $76932.00   \n",
       "4                     F           Salary            NaN    $111474.00   \n",
       "...                 ...              ...            ...           ...   \n",
       "32653                 F           Salary            NaN     $90024.00   \n",
       "32654                 F           Salary            NaN     $48078.00   \n",
       "32655                 F           Salary            NaN     $87006.00   \n",
       "32656                 F           Salary            NaN     $93354.00   \n",
       "32657                 F           Salary            NaN    $115932.00   \n",
       "\n",
       "      Hourly Rate    salary  hourly_rate  \n",
       "0             NaN  107790.0          NaN  \n",
       "1             NaN  104628.0          NaN  \n",
       "2             NaN  114324.0          NaN  \n",
       "3             NaN   76932.0          NaN  \n",
       "4             NaN  111474.0          NaN  \n",
       "...           ...       ...          ...  \n",
       "32653         NaN   90024.0          NaN  \n",
       "32654         NaN   48078.0          NaN  \n",
       "32655         NaN   87006.0          NaN  \n",
       "32656         NaN   93354.0          NaN  \n",
       "32657         NaN  115932.0          NaN  \n",
       "\n",
       "[32658 rows x 10 columns]"
      ]
     },
     "execution_count": 71,
     "metadata": {},
     "output_type": "execute_result"
    }
   ],
   "source": [
    "data"
   ]
  },
  {
   "cell_type": "code",
   "execution_count": 73,
   "id": "e8a3e9d0-6017-457a-b139-07c22ddf2a37",
   "metadata": {},
   "outputs": [
    {
     "name": "stdout",
     "output_type": "stream",
     "text": [
      "hourly rate is max : 96.0\n",
      "hourly rate is min : 2.65\n",
      "hourly rate is mean/avg: 32.86819231257135\n"
     ]
    }
   ],
   "source": [
    "print(\"hourly rate is max :\",data[\"hourly_rate\"].max())\n",
    "print(\"hourly rate is min :\",data[\"hourly_rate\"].min())\n",
    "print(\"hourly rate is mean/avg:\",data[\"hourly_rate\"].mean())"
   ]
  },
  {
   "cell_type": "code",
   "execution_count": 74,
   "id": "e93bd186-ca6e-4d3c-a715-8ca390d763b8",
   "metadata": {},
   "outputs": [
    {
     "data": {
      "text/plain": [
       "Index(['Name', 'Job Titles', 'Department', 'Full or Part-Time',\n",
       "       'Salary or Hourly', 'Typical Hours', 'Annual Salary', 'Hourly Rate',\n",
       "       'salary', 'hourly_rate'],\n",
       "      dtype='object')"
      ]
     },
     "execution_count": 74,
     "metadata": {},
     "output_type": "execute_result"
    }
   ],
   "source": [
    "data.columns"
   ]
  },
  {
   "cell_type": "code",
   "execution_count": 82,
   "id": "9122db2d-cef9-456b-8290-fdebbacd74fc",
   "metadata": {},
   "outputs": [
    {
     "data": {
      "text/plain": [
       "1"
      ]
     },
     "execution_count": 82,
     "metadata": {},
     "output_type": "execute_result"
    }
   ],
   "source": [
    "data[data['hourly_rate']==data['hourly_rate'].max()].count()[\"Name\"]"
   ]
  },
  {
   "cell_type": "code",
   "execution_count": 85,
   "id": "ecd392a8-0e82-4c43-9bc7-0bbaaba81403",
   "metadata": {},
   "outputs": [
    {
     "data": {
      "text/plain": [
       "14317"
      ]
     },
     "execution_count": 85,
     "metadata": {},
     "output_type": "execute_result"
    }
   ],
   "source": [
    "data['hourly_rate'].idxmax()"
   ]
  },
  {
   "cell_type": "code",
   "execution_count": 87,
   "id": "78a5d5ad-1033-4277-9026-13000a42aff8",
   "metadata": {},
   "outputs": [
    {
     "data": {
      "text/plain": [
       "'JONES,  JOHN W'"
      ]
     },
     "execution_count": 87,
     "metadata": {},
     "output_type": "execute_result"
    }
   ],
   "source": [
    "data.iloc[14317][\"Name\"]"
   ]
  },
  {
   "cell_type": "code",
   "execution_count": 88,
   "id": "d4e734f0-5fb5-4b48-9f37-00e73fbe00ed",
   "metadata": {},
   "outputs": [
    {
     "data": {
      "text/plain": [
       "14317    JONES,  JOHN W\n",
       "Name: Name, dtype: object"
      ]
     },
     "execution_count": 88,
     "metadata": {},
     "output_type": "execute_result"
    }
   ],
   "source": [
    "data[data[\"hourly_rate\"] == data[\"hourly_rate\"].max()][\"Name\"]"
   ]
  },
  {
   "cell_type": "code",
   "execution_count": 91,
   "id": "b86671f2-4849-4212-8c61-9e18dad6dc1e",
   "metadata": {},
   "outputs": [
    {
     "data": {
      "text/plain": [
       "2791"
      ]
     },
     "execution_count": 91,
     "metadata": {},
     "output_type": "execute_result"
    }
   ],
   "source": [
    "data[data[\"hourly_rate\"] < data[\"hourly_rate\"].mean()].count()[\"Name\"]"
   ]
  },
  {
   "cell_type": "code",
   "execution_count": 104,
   "id": "67cbfac7-886a-439a-8228-87a04aae670b",
   "metadata": {},
   "outputs": [
    {
     "data": {
      "text/plain": [
       "5906"
      ]
     },
     "execution_count": 104,
     "metadata": {},
     "output_type": "execute_result"
    }
   ],
   "source": [
    "data[(data[\"Salary or Hourly\"]== \"Hourly\") & (data[\"Full or Part-Time\"] == \"F\")].count()[\"Full or Part-Time\"]"
   ]
  },
  {
   "cell_type": "code",
   "execution_count": 101,
   "id": "0d0c61fe-9ec2-4bee-9ad8-39686ddf3a17",
   "metadata": {},
   "outputs": [
    {
     "data": {
      "text/plain": [
       "5906"
      ]
     },
     "execution_count": 101,
     "metadata": {},
     "output_type": "execute_result"
    }
   ],
   "source": [
    "data[(data[\"hourly_rate\"].notnull()) & (data[\"Full or Part-Time\"] == \"F\")].count()['Full or Part-Time']"
   ]
  },
  {
   "cell_type": "code",
   "execution_count": 108,
   "id": "6c533362-4adb-45ed-823c-5d778ff3dba5",
   "metadata": {},
   "outputs": [
    {
     "data": {
      "text/html": [
       "<div>\n",
       "<style scoped>\n",
       "    .dataframe tbody tr th:only-of-type {\n",
       "        vertical-align: middle;\n",
       "    }\n",
       "\n",
       "    .dataframe tbody tr th {\n",
       "        vertical-align: top;\n",
       "    }\n",
       "\n",
       "    .dataframe thead th {\n",
       "        text-align: right;\n",
       "    }\n",
       "</style>\n",
       "<table border=\"1\" class=\"dataframe\">\n",
       "  <thead>\n",
       "    <tr style=\"text-align: right;\">\n",
       "      <th></th>\n",
       "      <th>Name</th>\n",
       "      <th>Job Titles</th>\n",
       "      <th>Department</th>\n",
       "      <th>Full or Part-Time</th>\n",
       "      <th>Salary or Hourly</th>\n",
       "      <th>Typical Hours</th>\n",
       "      <th>Annual Salary</th>\n",
       "      <th>Hourly Rate</th>\n",
       "      <th>salary</th>\n",
       "      <th>hourly_rate</th>\n",
       "    </tr>\n",
       "  </thead>\n",
       "  <tbody>\n",
       "    <tr>\n",
       "      <th>1232</th>\n",
       "      <td>AYALA JR,  JESUS</td>\n",
       "      <td>STUDENT INTERN</td>\n",
       "      <td>HUMAN RESOURCES</td>\n",
       "      <td>F</td>\n",
       "      <td>Hourly</td>\n",
       "      <td>35.0</td>\n",
       "      <td>NaN</td>\n",
       "      <td>$10.00</td>\n",
       "      <td>NaN</td>\n",
       "      <td>10.0</td>\n",
       "    </tr>\n",
       "    <tr>\n",
       "      <th>4522</th>\n",
       "      <td>CERVANTES,  BIANCA A</td>\n",
       "      <td>STUDENT INTERN</td>\n",
       "      <td>BUDGET &amp; MGMT</td>\n",
       "      <td>F</td>\n",
       "      <td>Hourly</td>\n",
       "      <td>35.0</td>\n",
       "      <td>NaN</td>\n",
       "      <td>$10.00</td>\n",
       "      <td>NaN</td>\n",
       "      <td>10.0</td>\n",
       "    </tr>\n",
       "    <tr>\n",
       "      <th>6476</th>\n",
       "      <td>DAVILA,  ROBERTO A</td>\n",
       "      <td>ALDERMANIC AIDE</td>\n",
       "      <td>CITY COUNCIL</td>\n",
       "      <td>F</td>\n",
       "      <td>Hourly</td>\n",
       "      <td>35.0</td>\n",
       "      <td>NaN</td>\n",
       "      <td>$10.00</td>\n",
       "      <td>NaN</td>\n",
       "      <td>10.0</td>\n",
       "    </tr>\n",
       "    <tr>\n",
       "      <th>16474</th>\n",
       "      <td>LEVY,  ETHAN</td>\n",
       "      <td>CLERK CITY COUNCIL</td>\n",
       "      <td>CITY COUNCIL</td>\n",
       "      <td>F</td>\n",
       "      <td>Hourly</td>\n",
       "      <td>35.0</td>\n",
       "      <td>NaN</td>\n",
       "      <td>$10.00</td>\n",
       "      <td>NaN</td>\n",
       "      <td>10.0</td>\n",
       "    </tr>\n",
       "  </tbody>\n",
       "</table>\n",
       "</div>"
      ],
      "text/plain": [
       "                       Name          Job Titles       Department  \\\n",
       "1232      AYALA JR,  JESUS       STUDENT INTERN  HUMAN RESOURCES   \n",
       "4522   CERVANTES,  BIANCA A      STUDENT INTERN    BUDGET & MGMT   \n",
       "6476     DAVILA,  ROBERTO A     ALDERMANIC AIDE     CITY COUNCIL   \n",
       "16474         LEVY,  ETHAN   CLERK CITY COUNCIL     CITY COUNCIL   \n",
       "\n",
       "      Full or Part-Time Salary or Hourly  Typical Hours Annual Salary  \\\n",
       "1232                  F           Hourly           35.0           NaN   \n",
       "4522                  F           Hourly           35.0           NaN   \n",
       "6476                  F           Hourly           35.0           NaN   \n",
       "16474                 F           Hourly           35.0           NaN   \n",
       "\n",
       "      Hourly Rate  salary  hourly_rate  \n",
       "1232       $10.00     NaN         10.0  \n",
       "4522       $10.00     NaN         10.0  \n",
       "6476       $10.00     NaN         10.0  \n",
       "16474      $10.00     NaN         10.0  "
      ]
     },
     "execution_count": 108,
     "metadata": {},
     "output_type": "execute_result"
    }
   ],
   "source": [
    "data[(data[\"Full or Part-Time\"] == \"F\") & (data[\"hourly_rate\"] == 10)]"
   ]
  },
  {
   "cell_type": "code",
   "execution_count": 109,
   "id": "5cd0cf77-5899-4a9b-82d2-d2611252e2e3",
   "metadata": {},
   "outputs": [
    {
     "data": {
      "text/plain": [
       "Index(['Name', 'Job Titles', 'Department', 'Full or Part-Time',\n",
       "       'Salary or Hourly', 'Typical Hours', 'Annual Salary', 'Hourly Rate',\n",
       "       'salary', 'hourly_rate'],\n",
       "      dtype='object')"
      ]
     },
     "execution_count": 109,
     "metadata": {},
     "output_type": "execute_result"
    }
   ],
   "source": [
    "data.columns"
   ]
  },
  {
   "cell_type": "code",
   "execution_count": 110,
   "id": "dce5cbf6-7248-42ad-b1b7-6f31dabf3944",
   "metadata": {},
   "outputs": [
    {
     "data": {
      "text/plain": [
       "1095"
      ]
     },
     "execution_count": 110,
     "metadata": {},
     "output_type": "execute_result"
    }
   ],
   "source": [
    "data[\"Job Titles\"].nunique()"
   ]
  },
  {
   "cell_type": "code",
   "execution_count": 112,
   "id": "2cce04d9-f698-4a96-8d25-42029825b9c5",
   "metadata": {},
   "outputs": [
    {
     "data": {
      "text/plain": [
       "Index(['Name', 'Job Titles', 'Department', 'Full or Part-Time',\n",
       "       'Salary or Hourly', 'Typical Hours', 'Annual Salary', 'Hourly Rate',\n",
       "       'salary', 'hourly_rate'],\n",
       "      dtype='object')"
      ]
     },
     "execution_count": 112,
     "metadata": {},
     "output_type": "execute_result"
    }
   ],
   "source": [
    "data.columns"
   ]
  },
  {
   "cell_type": "code",
   "execution_count": 128,
   "id": "90f93f03-43c1-48c0-9ac5-86efd0ff7c94",
   "metadata": {},
   "outputs": [
    {
     "data": {
      "text/plain": [
       "Series([], Name: Job Titles, dtype: object)"
      ]
     },
     "execution_count": 128,
     "metadata": {},
     "output_type": "execute_result"
    }
   ],
   "source": [
    "data[data[\"Name\"] == \"AGAR, BULENT B\"] [\"Job Titles\"]"
   ]
  },
  {
   "cell_type": "code",
   "execution_count": 130,
   "id": "c30a998f-560b-499a-89be-95f4dccdfce4",
   "metadata": {},
   "outputs": [
    {
     "data": {
      "text/plain": [
       "Job Titles\n",
       "POLICE OFFICER    9393\n",
       "Name: count, dtype: int64"
      ]
     },
     "execution_count": 130,
     "metadata": {},
     "output_type": "execute_result"
    }
   ],
   "source": [
    "data[\"Job Titles\"].value_counts().head(1)"
   ]
  },
  {
   "cell_type": "code",
   "execution_count": 140,
   "id": "555b9d2d-0f8a-4ce8-957b-2a15be6de898",
   "metadata": {},
   "outputs": [
    {
     "data": {
      "text/plain": [
       "230    CHIEF ENGINEER OF SEWERS\n",
       "Name: Job Titles, dtype: object"
      ]
     },
     "execution_count": 140,
     "metadata": {},
     "output_type": "execute_result"
    }
   ],
   "source": [
    "data[data['Name']=='AGAR,  BULENT B']['Job Titles']"
   ]
  },
  {
   "cell_type": "code",
   "execution_count": 141,
   "id": "8aac7941-32b7-4ce6-80e9-f4849d0814f8",
   "metadata": {},
   "outputs": [],
   "source": [
    "def find_string(title):  \n",
    "    if 'officer' in title.lower(): #Field_Officer(manager) \n",
    "        return True\n",
    "    else:\n",
    "        return False"
   ]
  },
  {
   "cell_type": "code",
   "execution_count": 142,
   "id": "4a4f1099-6dc6-4e7d-afc6-f6a1130cdec3",
   "metadata": {},
   "outputs": [
    {
     "data": {
      "text/plain": [
       "0        False\n",
       "1        False\n",
       "2        False\n",
       "3        False\n",
       "4        False\n",
       "         ...  \n",
       "32653     True\n",
       "32654     True\n",
       "32655     True\n",
       "32656     True\n",
       "32657    False\n",
       "Name: Job Titles, Length: 32658, dtype: bool"
      ]
     },
     "execution_count": 142,
     "metadata": {},
     "output_type": "execute_result"
    }
   ],
   "source": [
    "data['Job Titles'].apply(find_string)"
   ]
  }
 ],
 "metadata": {
  "kernelspec": {
   "display_name": "Python 3 (ipykernel)",
   "language": "python",
   "name": "python3"
  },
  "language_info": {
   "codemirror_mode": {
    "name": "ipython",
    "version": 3
   },
   "file_extension": ".py",
   "mimetype": "text/x-python",
   "name": "python",
   "nbconvert_exporter": "python",
   "pygments_lexer": "ipython3",
   "version": "3.10.4"
  }
 },
 "nbformat": 4,
 "nbformat_minor": 5
}
